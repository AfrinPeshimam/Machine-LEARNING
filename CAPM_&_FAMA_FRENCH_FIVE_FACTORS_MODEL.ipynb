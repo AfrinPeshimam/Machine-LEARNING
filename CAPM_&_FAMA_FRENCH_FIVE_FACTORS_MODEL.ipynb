{
  "nbformat": 4,
  "nbformat_minor": 0,
  "metadata": {
    "colab": {
      "name": "CAPM & FAMA FRENCH FIVE FACTORS MODEL.ipynb",
      "provenance": [],
      "collapsed_sections": []
    },
    "kernelspec": {
      "name": "python3",
      "display_name": "Python 3"
    }
  },
  "cells": [
    {
      "cell_type": "code",
      "metadata": {
        "colab": {
          "base_uri": "https://localhost:8080/"
        },
        "id": "-qClCrsWpqtX",
        "outputId": "603e85e0-7908-445e-a7b5-9011fbc0b647"
      },
      "source": [
        "pip install yfinance\n"
      ],
      "execution_count": 67,
      "outputs": [
        {
          "output_type": "stream",
          "text": [
            "Requirement already satisfied: yfinance in /usr/local/lib/python3.6/dist-packages (0.1.55)\n",
            "Requirement already satisfied: numpy>=1.15 in /usr/local/lib/python3.6/dist-packages (from yfinance) (1.18.5)\n",
            "Requirement already satisfied: multitasking>=0.0.7 in /usr/local/lib/python3.6/dist-packages (from yfinance) (0.0.9)\n",
            "Requirement already satisfied: pandas>=0.24 in /usr/local/lib/python3.6/dist-packages (from yfinance) (1.1.4)\n",
            "Requirement already satisfied: lxml>=4.5.1 in /usr/local/lib/python3.6/dist-packages (from yfinance) (4.6.2)\n",
            "Requirement already satisfied: requests>=2.20 in /usr/local/lib/python3.6/dist-packages (from yfinance) (2.23.0)\n",
            "Requirement already satisfied: python-dateutil>=2.7.3 in /usr/local/lib/python3.6/dist-packages (from pandas>=0.24->yfinance) (2.8.1)\n",
            "Requirement already satisfied: pytz>=2017.2 in /usr/local/lib/python3.6/dist-packages (from pandas>=0.24->yfinance) (2018.9)\n",
            "Requirement already satisfied: certifi>=2017.4.17 in /usr/local/lib/python3.6/dist-packages (from requests>=2.20->yfinance) (2020.11.8)\n",
            "Requirement already satisfied: urllib3!=1.25.0,!=1.25.1,<1.26,>=1.21.1 in /usr/local/lib/python3.6/dist-packages (from requests>=2.20->yfinance) (1.24.3)\n",
            "Requirement already satisfied: chardet<4,>=3.0.2 in /usr/local/lib/python3.6/dist-packages (from requests>=2.20->yfinance) (3.0.4)\n",
            "Requirement already satisfied: idna<3,>=2.5 in /usr/local/lib/python3.6/dist-packages (from requests>=2.20->yfinance) (2.10)\n",
            "Requirement already satisfied: six>=1.5 in /usr/local/lib/python3.6/dist-packages (from python-dateutil>=2.7.3->pandas>=0.24->yfinance) (1.15.0)\n"
          ],
          "name": "stdout"
        }
      ]
    },
    {
      "cell_type": "code",
      "metadata": {
        "id": "EMjKWCjppvti"
      },
      "source": [
        "import warnings\n",
        "warnings.simplefilter(action='ignore', category=FutureWarning)\n",
        "import pandas as pd\n",
        "import yfinance as yf\n",
        "import statsmodels.api as sm\n",
        "import statsmodels.formula.api as smf\n",
        "\n",
        "from pandas_datareader.famafrench import get_available_datasets\n",
        "import pandas_datareader.data as web"
      ],
      "execution_count": 68,
      "outputs": []
    },
    {
      "cell_type": "markdown",
      "metadata": {
        "id": "A1NJrphm0bbT"
      },
      "source": [
        "# CAPM MODEL"
      ]
    },
    {
      "cell_type": "code",
      "metadata": {
        "colab": {
          "base_uri": "https://localhost:8080/"
        },
        "id": "cHw6YSTiqDh9",
        "outputId": "f286b693-2ee5-44f7-ccb9-814baa66ce80"
      },
      "source": [
        "#CAPM\n",
        "RISKY_ASSET = 'AMZN'\n",
        "MARKET_BENCHMARK = '^GSPC'\n",
        "START_DATE = '2018-01-01'\n",
        "\n",
        "df = yf.download([RISKY_ASSET, MARKET_BENCHMARK],\n",
        "                 start=START_DATE,\n",
        "                 adjusted=True,\n",
        "                 progress=False)\n",
        "X = df['Adj Close'].rename(columns={RISKY_ASSET: 'asset', \n",
        "                                    MARKET_BENCHMARK: 'market'}) \\\n",
        "                   .resample('M') \\\n",
        "                   .last() \\\n",
        "                   .pct_change() \\\n",
        "                   .dropna()\n",
        "y = X.pop('asset')\n",
        "\n",
        "# add constant\n",
        "X = sm.add_constant(X)\n",
        "\n",
        "# define and fit the regression model \n",
        "capm_model = sm.OLS(y, X).fit()\n",
        "\n",
        "# print results \n",
        "print('CAPM MODEL SUMMARY\\n',capm_model.summary())"
      ],
      "execution_count": 69,
      "outputs": [
        {
          "output_type": "stream",
          "text": [
            "CAPM MODEL SUMMARY\n",
            "                             OLS Regression Results                            \n",
            "==============================================================================\n",
            "Dep. Variable:                  asset   R-squared:                       0.466\n",
            "Model:                            OLS   Adj. R-squared:                  0.450\n",
            "Method:                 Least Squares   F-statistic:                     28.77\n",
            "Date:                Fri, 04 Dec 2020   Prob (F-statistic):           6.31e-06\n",
            "Time:                        13:08:04   Log-Likelihood:                 47.065\n",
            "No. Observations:                  35   AIC:                            -90.13\n",
            "Df Residuals:                      33   BIC:                            -87.02\n",
            "Df Model:                           1                                         \n",
            "Covariance Type:            nonrobust                                         \n",
            "==============================================================================\n",
            "                 coef    std err          t      P>|t|      [0.025      0.975]\n",
            "------------------------------------------------------------------------------\n",
            "const          0.0166      0.011      1.488      0.146      -0.006       0.039\n",
            "market         1.1009      0.205      5.364      0.000       0.683       1.518\n",
            "==============================================================================\n",
            "Omnibus:                        0.656   Durbin-Watson:                   1.854\n",
            "Prob(Omnibus):                  0.720   Jarque-Bera (JB):                0.409\n",
            "Skew:                           0.262   Prob(JB):                        0.815\n",
            "Kurtosis:                       2.922   Cond. No.                         18.7\n",
            "==============================================================================\n",
            "\n",
            "Warnings:\n",
            "[1] Standard Errors assume that the covariance matrix of the errors is correctly specified.\n"
          ],
          "name": "stdout"
        }
      ]
    },
    {
      "cell_type": "markdown",
      "metadata": {
        "id": "A0X5euNR0emX"
      },
      "source": [
        "# FAMA FRENCH FIVE FACTOR MODEL"
      ]
    },
    {
      "cell_type": "code",
      "metadata": {
        "id": "GYWiOc9lq8eK"
      },
      "source": [
        "# five factors\n",
        "df_five_factor = web.DataReader('F-F_Research_Data_5_Factors_2x3', \n",
        "                                'famafrench', \n",
        "                                start=START_DATE)[0]\n",
        "df_five_factor.index = df_five_factor.index.format()"
      ],
      "execution_count": 70,
      "outputs": []
    },
    {
      "cell_type": "code",
      "metadata": {
        "colab": {
          "base_uri": "https://localhost:8080/"
        },
        "id": "KTClyQZDugYL",
        "outputId": "35f99920-ae87-4278-a321-9a1ecb6cd472"
      },
      "source": [
        "asset_df = yf.download(RISKY_ASSET,\n",
        "                       start=START_DATE,\n",
        "                       adjusted=True,\n",
        "                       progress=False)\n",
        "y = asset_df['Adj Close'].resample('M') \\\n",
        "                         .last() \\\n",
        "                         .pct_change() \\\n",
        "                         .dropna()\n",
        "\n",
        "y.index = y.index.strftime('%Y-%m')\n",
        "y.name = 'return'\n",
        "y= pd.DataFrame(y)\n",
        "# join all datasets on the index\n",
        "five_factor_data = pd.merge(y, df_five_factor, left_index=True, right_index=True)\n",
        "five_factor_data.columns = [ 'rtn','mkt', 'smb', 'hml', 'rmw', 'cma', 'rf']\n",
        "five_factor_data.loc[:, five_factor_data.columns != 'rtn'] /= 100\n",
        "# calculate excess returns\n",
        "five_factor_data['excess_rtn'] = five_factor_data.rtn - five_factor_data.rf\n",
        "\n",
        "five_factor_model = smf.ols(\n",
        "    formula='excess_rtn ~ mkt + smb + hml + rmw + cma', \n",
        "    data=five_factor_data\n",
        ").fit()\n",
        "\n",
        "print('FAMA FRENCH FIVE FACTOR MODEL\\n',five_factor_model.summary())\n",
        "\n",
        "\n"
      ],
      "execution_count": 71,
      "outputs": [
        {
          "output_type": "stream",
          "text": [
            "FAMA FRENCH FIVE FACTOR MODEL\n",
            "                             OLS Regression Results                            \n",
            "==============================================================================\n",
            "Dep. Variable:             excess_rtn   R-squared:                       0.646\n",
            "Model:                            OLS   Adj. R-squared:                  0.580\n",
            "Method:                 Least Squares   F-statistic:                     9.840\n",
            "Date:                Fri, 04 Dec 2020   Prob (F-statistic):           1.93e-05\n",
            "Time:                        13:08:04   Log-Likelihood:                 50.154\n",
            "No. Observations:                  33   AIC:                            -88.31\n",
            "Df Residuals:                      27   BIC:                            -79.33\n",
            "Df Model:                           5                                         \n",
            "Covariance Type:            nonrobust                                         \n",
            "==============================================================================\n",
            "                 coef    std err          t      P>|t|      [0.025      0.975]\n",
            "------------------------------------------------------------------------------\n",
            "Intercept      0.0018      0.012      0.152      0.881      -0.022       0.026\n",
            "mkt            1.4851      0.263      5.655      0.000       0.946       2.024\n",
            "smb           -0.1943      0.559     -0.348      0.731      -1.341       0.952\n",
            "hml           -0.9930      0.435     -2.285      0.030      -1.885      -0.101\n",
            "rmw           -0.6133      0.976     -0.628      0.535      -2.616       1.390\n",
            "cma            0.6505      0.858      0.758      0.455      -1.109       2.410\n",
            "==============================================================================\n",
            "Omnibus:                        0.790   Durbin-Watson:                   2.171\n",
            "Prob(Omnibus):                  0.674   Jarque-Bera (JB):                0.801\n",
            "Skew:                          -0.327   Prob(JB):                        0.670\n",
            "Kurtosis:                       2.608   Cond. No.                         105.\n",
            "==============================================================================\n",
            "\n",
            "Warnings:\n",
            "[1] Standard Errors assume that the covariance matrix of the errors is correctly specified.\n"
          ],
          "name": "stdout"
        }
      ]
    }
  ]
}